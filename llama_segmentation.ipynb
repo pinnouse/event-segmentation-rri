{
 "cells": [
  {
   "cell_type": "code",
   "execution_count": 1,
   "metadata": {},
   "outputs": [
    {
     "name": "stderr",
     "output_type": "stream",
     "text": [
      "c:\\Users\\nwong\\.conda\\envs\\llama3\\Lib\\site-packages\\tqdm\\auto.py:21: TqdmWarning: IProgress not found. Please update jupyter and ipywidgets. See https://ipywidgets.readthedocs.io/en/stable/user_install.html\n",
      "  from .autonotebook import tqdm as notebook_tqdm\n",
      "Loading checkpoint shards: 100%|██████████| 4/4 [00:10<00:00,  2.63s/it]\n",
      "WARNING:root:Some parameters are on the meta device device because they were offloaded to the cpu.\n",
      "Special tokens have been added in the vocabulary, make sure the associated word embeddings are fine-tuned or trained.\n"
     ]
    }
   ],
   "source": [
    "from llama3_segmentation import llm_segmentation"
   ]
  },
  {
   "cell_type": "code",
   "execution_count": 2,
   "metadata": {},
   "outputs": [
    {
     "name": "stderr",
     "output_type": "stream",
     "text": [
      "  0%|          | 0/1 [00:00<?, ?it/s]Setting `pad_token_id` to `eos_token_id`:128001 for open-end generation.\n",
      "c:\\Users\\nwong\\.conda\\envs\\llama3\\Lib\\site-packages\\transformers\\models\\llama\\modeling_llama.py:649: UserWarning: 1Torch was not compiled with flash attention. (Triggered internally at C:\\cb\\pytorch_1000000000000\\work\\aten\\src\\ATen\\native\\transformers\\cuda\\sdp_utils.cpp:455.)\n",
      "  attn_output = torch.nn.functional.scaled_dot_product_attention(\n",
      "100%|██████████| 1/1 [34:19<00:00, 2059.45s/it]\n",
      "  0%|          | 0/1 [00:00<?, ?it/s]Setting `pad_token_id` to `eos_token_id`:128001 for open-end generation.\n",
      "100%|██████████| 1/1 [33:52<00:00, 2032.45s/it]\n",
      "  0%|          | 0/1 [00:00<?, ?it/s]Setting `pad_token_id` to `eos_token_id`:128001 for open-end generation.\n",
      "100%|██████████| 1/1 [35:13<00:00, 2113.99s/it]\n"
     ]
    }
   ],
   "source": [
    "run_test_00 = llm_segmentation('stories/01Run.txt', 1, 0.1)\n",
    "run_test_05 = llm_segmentation('stories/01Run.txt', 1, 0.5)\n",
    "run_test_10 = llm_segmentation('stories/01Run.txt', 1, 1.0)"
   ]
  },
  {
   "cell_type": "code",
   "execution_count": 3,
   "metadata": {},
   "outputs": [
    {
     "data": {
      "text/plain": [
       "[['Here is the story segmented into large event units:',\n",
       "  'Sometimes in big Hollywood movies they’ll have these crazy chase scenes where somebody jumps or gets thrown from a moving car. The person hits the ground and rolls for a bit. Then they come to a stop and pop up and dust themselves off, like it was no big deal. Whenever I see that I think, That’s rubbish. Getting thrown out of a moving car hurts way worse than that.',\n",
       "  'This particular Sunday, the Sunday I was hurled from a moving car, started out like any other Sunday. My mother woke me up, made me porridge for breakfast. I took my bath while she dressed my baby brother Andrew, who was nine months old. Then we went out to the driveway, but once we were finally all strapped in and ready to go, the car wouldn’t start.',\n",
       "  'We waited and waited for a minibus to come by. Under apartheid the government provided no public transportation for blacks, but white people still needed us to show up to mop their floors and clean their bathrooms. Necessity being the mother of invention, black people created their own transit system, an informal network of bus routes, controlled by private associations operating entirely outside the law.',\n",
       "  'Because the minibus business was completely unregulated, it was basically organized crime. Different groups ran different routes, and they would fight over who controlled what. There was bribery and general shadiness that went on, a great deal of violence, and a lot of protection money paid to avoid violence. The one thing you didn’t do was steal a route from a rival group. Drivers who stole routes would get killed.',\n",
       "  'Being unregulated, minibuses were also very unreliable. When they came, they came. When they didn’t, they didn’t. Standing outside Rosebank Union, I was literally falling asleep on my feet. Not a minibus in sight. Eventually my mother said, Let’s hitchhike. We walked and walked, and after what felt like an eternity, a car drove up and stopped. The driver offered us a ride, and we climbed in.',\n",
       "  'We hadn’t gone ten feet when suddenly a minibus swerved right in front of the car and cut us off. A Zulu driver got out with an iwisa, a large, traditional Zulu weapon— a war club, basically. They’re used to smash people’s skulls in. Another guy, his crony, got out of the passenger side. They walked up to the driver’s side of the car we were in, grabbed the man who’d offered us a ride, pulled him out, and started shoving their clubs in his face.',\n",
       "  'Why are you stealing our customers? Why are you picking people up? It looked like they were going to kill this guy. I knew that happened sometimes. My mom spoke up. Hey, listen, he was just helping me. Leave him. We’ll ride with you. That’s what we wanted in the first place. So, we got out of the first car and climbed into the minibus.',\n",
       "  'We were the only passengers in the minibus. In addition to being violent gangsters, South African minibus drivers are notorious for complaining and haranguing passengers as they drive. This driver was a particularly angry one. As we rode along, he started lecturing my mother about being in a car with a man who was not her husband. My mother didn’t suffer lectures from strange men. She told him to mind his own business, and when he heard her speaking in Xhosa, that really set him off.',\n",
       "  'The stereotypes of Zulu and Xhosa women were as ingrained as those of the men. Zulu women were well behaved and dutiful. Xhosa women were promiscuous and unfaithful. And here was my mother, his tribal enemy, a Xhosa woman alone with two small children— one of them a mixed child, no less. Not just a whore but a whore who sleeps with white men. Oh, you’re a Xhosa, he said. That explains it. Climbing into strange men’s cars. Disgusting woman.',\n",
       "  'My mom kept telling him off and he kept calling her names, yelling at her from the front seat, wagging his finger in the rearview mirror and growing more and more menacing until finally he said, That’s the problem with you Xhosa women. You’re all sluts— and tonight you’re going to learn your lesson. He sped off. He was driving fast, and he wasn’t stopping, only slowing down to check for traffic at the intersections before speeding through.',\n",
       "  'Death was never far away from anybody back then. At that point my mother could be raped. We could be killed. These were all viable options. I didn’t fully comprehend the danger we were in at the moment; I was so tired that I just wanted to sleep. Plus my mom stayed very calm. She didn’t panic, so I didn’t know to panic. She just kept trying to reason with him.',\n",
       "  'I’m sorry if we’ve upset you, bhuti. You can just let us out here— No. Really, it’s fine. We can just walk— No. He raced along Oxford Road, the lanes empty, no other cars out. I was sitting closest to the minibus’s sliding door. My mother sat next to me, holding baby Andrew. She looked out the window at the passing road and then leaned over to me and whispered, Trevor, when he slows down at the next intersection, I’m going to open the door and we’re going to jump.',\n",
       "  'I didn’t hear a word of what she was saying, because by that point I’d completely nodded off. When we came to the next traffic light, the driver eased off the gas a bit to look around and check the road. My mother reached over, pulled the sliding door open, grabbed me, and threw me out as far as she could. Then she took Andrew, curled herself in a ball around him, and leaped out behind me.',\n",
       "  'It felt like a dream until the pain hit. Bam! I smacked hard on the pavement. My mother landed right beside me and we tumbled and tumbled and rolled and rolled. I was wide awake now. I went from half asleep to What the hell?! Eventually I came to a stop and pulled myself up, completely disoriented. I looked around and saw my mother, already on her feet. She turned and looked at me and screamed. Run!',\n",
       "  'So, I ran, and she ran, and nobody ran like me and my mom. It’s weird to explain, but I just knew what to do. It was animal instinct, learned in a world where violence was always lurking and waiting to erupt. In the townships, when the police came swooping in with their riot gear and armored cars and helicopters, I knew: Run for cover. Run and hide.',\n",
       "  'I knew that as a five year old. Had I lived a different life, getting thrown out of a speeding minibus might have fazed me. I’d have stood there like an idiot, going, What’s happening, Mom? Why are my legs so sore? But there was none of that. Mom said run, and I ran. Like the gazelle runs from the lion, I ran. The men stopped the minibus and got out and tried to chase us, but they didn’t stand a chance. We smoked them.',\n",
       "  'I think they were in shock. I still remember glancing back and seeing them give up with a look of utter bewilderment on their faces. What just happened? Who’d have thought a woman with two small children could run so fast? They didn’t know they were dealing with the reigning champs of the Maryvale College sports day. We kept going and going until we made it to a twenty four hour petrol station and called the police. By then the men were long gone.',\n",
       "  'I still didn’t know why any of this had happened; I’d been running on pure adrenaline. Once we stopped running, I realized how much pain I was in. I looked down, and the skin on my arms was scraped and torn. I was cut up and bleeding all over. Mom was, too. My baby brother was fine, though, incredibly. My mom had wrapped herself around him, and he’d come through without a scratch.',\n",
       "  'I turned to her in shock. What was that?! Why are we running?! What do you mean, ‘Why are we running?’ Those men were trying to kill us. You never told me that! You just threw me out of the car! I did tell you. Why didn’t you jump? Jump?! I was asleep! So, I should have left you there for them to kill you? At least they would have woken me up before they killed me.',\n",
       "  'Back and forth we went. I was too confused and too angry about getting thrown out of the car to realize what had happened. My mother had saved my life. As we caught our breath and waited for the police to come and drive us home, she said, Well, at least we’re safe, thank God. But I was nine years old, and I knew better. I wasn’t going to keep quiet this time. No, Mom! This was not thanks to God! You should have listened to God when he told us to stay at home when the car wouldn’t start, because clearly the Devil tricked us into coming out tonight.',\n",
       "  'No, Trevor! That’s not how the Devil works. This is part of God’s plan, and if He wanted us here then He had a reason. And on and on and there we were, back at it, arguing about God’s will. Finally, I said, Look, Mom. I know you love Jesus, but maybe next week you could ask him to meet us at our house. Because this really wasn’t a fun night. She broke out in a huge smile and started laughing. I started laughing, too, and we stood there, this little boy and his mom, our arms and legs covered in blood and dirt, laughing together through the pain in the light of a petrol station on the side of the road in the middle of the night.']]"
      ]
     },
     "execution_count": 3,
     "metadata": {},
     "output_type": "execute_result"
    }
   ],
   "source": [
    "run_test_00"
   ]
  },
  {
   "cell_type": "code",
   "execution_count": 5,
   "metadata": {},
   "outputs": [],
   "source": [
    "import numpy as np\n",
    "\n",
    "np.save('run_test_00.npy', run_test_00)\n",
    "np.save('run_test_05.npy', run_test_05)\n",
    "np.save('run_test_10.npy', run_test_10)"
   ]
  },
  {
   "cell_type": "code",
   "execution_count": 6,
   "metadata": {},
   "outputs": [
    {
     "name": "stderr",
     "output_type": "stream",
     "text": [
      "  0%|          | 0/20 [00:00<?, ?it/s]Setting `pad_token_id` to `eos_token_id`:128001 for open-end generation.\n",
      "  5%|▌         | 1/20 [35:30<11:14:33, 2130.17s/it]Setting `pad_token_id` to `eos_token_id`:128001 for open-end generation.\n",
      " 10%|█         | 2/20 [1:09:58<10:28:04, 2093.60s/it]Setting `pad_token_id` to `eos_token_id`:128001 for open-end generation.\n",
      " 15%|█▌        | 3/20 [1:44:30<9:50:24, 2083.80s/it] Setting `pad_token_id` to `eos_token_id`:128001 for open-end generation.\n",
      " 20%|██        | 4/20 [2:19:40<9:18:30, 2094.42s/it]Setting `pad_token_id` to `eos_token_id`:128001 for open-end generation.\n",
      " 25%|██▌       | 5/20 [2:53:48<8:39:21, 2077.42s/it]Setting `pad_token_id` to `eos_token_id`:128001 for open-end generation.\n",
      " 30%|███       | 6/20 [3:28:25<8:04:44, 2077.48s/it]Setting `pad_token_id` to `eos_token_id`:128001 for open-end generation.\n",
      " 35%|███▌      | 7/20 [4:02:25<7:27:27, 2065.17s/it]You seem to be using the pipelines sequentially on GPU. In order to maximize efficiency please use a dataset\n",
      "Setting `pad_token_id` to `eos_token_id`:128001 for open-end generation.\n",
      " 40%|████      | 8/20 [4:36:42<6:52:30, 2062.54s/it]Setting `pad_token_id` to `eos_token_id`:128001 for open-end generation.\n",
      " 45%|████▌     | 9/20 [5:10:41<6:16:46, 2055.13s/it]Setting `pad_token_id` to `eos_token_id`:128001 for open-end generation.\n",
      " 50%|█████     | 10/20 [5:45:15<5:43:28, 2060.86s/it]Setting `pad_token_id` to `eos_token_id`:128001 for open-end generation.\n",
      " 55%|█████▌    | 11/20 [6:19:04<5:07:41, 2051.25s/it]Setting `pad_token_id` to `eos_token_id`:128001 for open-end generation.\n",
      " 60%|██████    | 12/20 [6:53:44<4:34:38, 2059.85s/it]Setting `pad_token_id` to `eos_token_id`:128001 for open-end generation.\n",
      " 65%|██████▌   | 13/20 [7:27:41<3:59:31, 2053.08s/it]Setting `pad_token_id` to `eos_token_id`:128001 for open-end generation.\n",
      " 70%|███████   | 14/20 [8:01:37<3:24:46, 2047.75s/it]Setting `pad_token_id` to `eos_token_id`:128001 for open-end generation.\n",
      " 75%|███████▌  | 15/20 [8:35:50<2:50:47, 2049.45s/it]Setting `pad_token_id` to `eos_token_id`:128001 for open-end generation.\n",
      " 80%|████████  | 16/20 [9:10:46<2:17:34, 2063.62s/it]Setting `pad_token_id` to `eos_token_id`:128001 for open-end generation.\n",
      " 85%|████████▌ | 17/20 [9:44:28<1:42:32, 2050.90s/it]Setting `pad_token_id` to `eos_token_id`:128001 for open-end generation.\n",
      " 90%|█████████ | 18/20 [10:19:26<1:08:50, 2065.11s/it]Setting `pad_token_id` to `eos_token_id`:128001 for open-end generation.\n",
      " 95%|█████████▌| 19/20 [10:53:33<34:19, 2059.60s/it]  Setting `pad_token_id` to `eos_token_id`:128001 for open-end generation.\n",
      "100%|██████████| 20/20 [11:28:10<00:00, 2064.51s/it]\n",
      "  0%|          | 0/20 [00:00<?, ?it/s]Setting `pad_token_id` to `eos_token_id`:128001 for open-end generation.\n",
      "  5%|▌         | 1/20 [34:20<10:52:32, 2060.63s/it]Setting `pad_token_id` to `eos_token_id`:128001 for open-end generation.\n",
      " 10%|█         | 2/20 [1:09:54<10:31:10, 2103.91s/it]Setting `pad_token_id` to `eos_token_id`:128001 for open-end generation.\n",
      " 15%|█▌        | 3/20 [1:44:09<9:49:40, 2081.21s/it] Setting `pad_token_id` to `eos_token_id`:128001 for open-end generation.\n",
      " 20%|██        | 4/20 [2:19:06<9:16:40, 2087.52s/it]Setting `pad_token_id` to `eos_token_id`:128001 for open-end generation.\n",
      " 25%|██▌       | 5/20 [2:52:50<8:36:09, 2064.66s/it]Setting `pad_token_id` to `eos_token_id`:128001 for open-end generation.\n",
      " 30%|███       | 6/20 [3:28:41<8:08:37, 2094.09s/it]Setting `pad_token_id` to `eos_token_id`:128001 for open-end generation.\n",
      " 35%|███▌      | 7/20 [4:02:49<7:30:28, 2079.10s/it]Setting `pad_token_id` to `eos_token_id`:128001 for open-end generation.\n",
      " 40%|████      | 8/20 [4:36:50<6:53:23, 2066.97s/it]Setting `pad_token_id` to `eos_token_id`:128001 for open-end generation.\n",
      " 45%|████▌     | 9/20 [5:03:10<5:51:02, 1914.75s/it]Setting `pad_token_id` to `eos_token_id`:128001 for open-end generation.\n",
      " 50%|█████     | 10/20 [5:38:01<5:28:10, 1969.05s/it]Setting `pad_token_id` to `eos_token_id`:128001 for open-end generation.\n",
      " 55%|█████▌    | 11/20 [6:11:56<4:58:22, 1989.21s/it]Setting `pad_token_id` to `eos_token_id`:128001 for open-end generation.\n",
      " 60%|██████    | 12/20 [6:47:01<4:29:56, 2024.58s/it]Setting `pad_token_id` to `eos_token_id`:128001 for open-end generation.\n",
      " 65%|██████▌   | 13/20 [7:21:55<3:58:39, 2045.61s/it]Setting `pad_token_id` to `eos_token_id`:128001 for open-end generation.\n",
      " 70%|███████   | 14/20 [7:56:48<3:25:58, 2059.77s/it]Setting `pad_token_id` to `eos_token_id`:128001 for open-end generation.\n",
      " 75%|███████▌  | 15/20 [8:31:10<2:51:42, 2060.48s/it]Setting `pad_token_id` to `eos_token_id`:128001 for open-end generation.\n",
      " 80%|████████  | 16/20 [9:06:07<2:18:06, 2071.52s/it]Setting `pad_token_id` to `eos_token_id`:128001 for open-end generation.\n",
      " 85%|████████▌ | 17/20 [9:40:04<1:43:03, 2061.21s/it]Setting `pad_token_id` to `eos_token_id`:128001 for open-end generation.\n",
      " 90%|█████████ | 18/20 [10:14:47<1:08:55, 2067.78s/it]Setting `pad_token_id` to `eos_token_id`:128001 for open-end generation.\n",
      " 95%|█████████▌| 19/20 [10:48:41<34:17, 2057.52s/it]  Setting `pad_token_id` to `eos_token_id`:128001 for open-end generation.\n",
      "100%|██████████| 20/20 [11:23:44<00:00, 2051.24s/it]\n",
      "  0%|          | 0/20 [00:00<?, ?it/s]Setting `pad_token_id` to `eos_token_id`:128001 for open-end generation.\n",
      "  5%|▌         | 1/20 [29:56<9:28:51, 1796.37s/it]Setting `pad_token_id` to `eos_token_id`:128001 for open-end generation.\n",
      " 10%|█         | 2/20 [1:03:06<9:33:07, 1910.42s/it]Setting `pad_token_id` to `eos_token_id`:128001 for open-end generation.\n",
      " 15%|█▌        | 3/20 [1:37:03<9:17:39, 1968.20s/it]Setting `pad_token_id` to `eos_token_id`:128001 for open-end generation.\n",
      " 20%|██        | 4/20 [2:10:45<8:50:33, 1989.57s/it]Setting `pad_token_id` to `eos_token_id`:128001 for open-end generation.\n",
      " 25%|██▌       | 5/20 [2:43:45<8:16:31, 1986.12s/it]Setting `pad_token_id` to `eos_token_id`:128001 for open-end generation.\n",
      " 30%|███       | 6/20 [3:17:58<7:48:40, 2008.58s/it]Setting `pad_token_id` to `eos_token_id`:128001 for open-end generation.\n",
      " 35%|███▌      | 7/20 [3:52:35<7:20:05, 2031.18s/it]Setting `pad_token_id` to `eos_token_id`:128001 for open-end generation.\n",
      " 40%|████      | 8/20 [4:26:56<6:48:07, 2040.64s/it]Setting `pad_token_id` to `eos_token_id`:128001 for open-end generation.\n",
      " 45%|████▌     | 9/20 [4:33:36<4:40:05, 1527.78s/it]Setting `pad_token_id` to `eos_token_id`:128001 for open-end generation.\n",
      " 50%|█████     | 10/20 [5:07:16<4:39:56, 1679.65s/it]Setting `pad_token_id` to `eos_token_id`:128001 for open-end generation.\n",
      " 55%|█████▌    | 11/20 [5:40:21<4:25:57, 1773.07s/it]Setting `pad_token_id` to `eos_token_id`:128001 for open-end generation.\n",
      " 60%|██████    | 12/20 [6:03:50<3:41:39, 1662.42s/it]Setting `pad_token_id` to `eos_token_id`:128001 for open-end generation.\n",
      " 65%|██████▌   | 13/20 [6:38:05<3:27:48, 1781.21s/it]Setting `pad_token_id` to `eos_token_id`:128001 for open-end generation.\n",
      " 70%|███████   | 14/20 [6:57:31<2:39:33, 1595.60s/it]Setting `pad_token_id` to `eos_token_id`:128001 for open-end generation.\n",
      " 75%|███████▌  | 15/20 [7:20:53<2:08:05, 1537.06s/it]Setting `pad_token_id` to `eos_token_id`:128001 for open-end generation.\n",
      " 80%|████████  | 16/20 [7:42:04<1:37:07, 1456.89s/it]Setting `pad_token_id` to `eos_token_id`:128001 for open-end generation.\n",
      " 85%|████████▌ | 17/20 [8:03:13<1:10:01, 1400.46s/it]Setting `pad_token_id` to `eos_token_id`:128001 for open-end generation.\n",
      " 90%|█████████ | 18/20 [8:37:06<53:01, 1590.55s/it]  Setting `pad_token_id` to `eos_token_id`:128001 for open-end generation.\n",
      " 95%|█████████▌| 19/20 [9:11:02<28:44, 1724.25s/it]Setting `pad_token_id` to `eos_token_id`:128001 for open-end generation.\n",
      "100%|██████████| 20/20 [9:44:18<00:00, 1752.90s/it]\n",
      "  0%|          | 0/20 [00:00<?, ?it/s]Setting `pad_token_id` to `eos_token_id`:128001 for open-end generation.\n",
      "  5%|▌         | 1/20 [31:13<9:53:21, 1873.79s/it]Setting `pad_token_id` to `eos_token_id`:128001 for open-end generation.\n",
      " 10%|█         | 2/20 [1:02:24<9:21:39, 1872.20s/it]Setting `pad_token_id` to `eos_token_id`:128001 for open-end generation.\n",
      " 15%|█▌        | 3/20 [1:33:46<8:51:43, 1876.66s/it]Setting `pad_token_id` to `eos_token_id`:128001 for open-end generation.\n",
      " 20%|██        | 4/20 [2:05:02<8:20:22, 1876.40s/it]Setting `pad_token_id` to `eos_token_id`:128001 for open-end generation.\n",
      " 25%|██▌       | 5/20 [2:36:22<7:49:22, 1877.52s/it]Setting `pad_token_id` to `eos_token_id`:128001 for open-end generation.\n",
      " 30%|███       | 6/20 [3:07:47<7:18:43, 1880.25s/it]Setting `pad_token_id` to `eos_token_id`:128001 for open-end generation.\n",
      " 35%|███▌      | 7/20 [3:39:10<6:47:33, 1881.06s/it]Setting `pad_token_id` to `eos_token_id`:128001 for open-end generation.\n",
      " 40%|████      | 8/20 [4:10:34<6:16:21, 1881.81s/it]Setting `pad_token_id` to `eos_token_id`:128001 for open-end generation.\n",
      " 45%|████▌     | 9/20 [4:41:41<5:44:10, 1877.34s/it]Setting `pad_token_id` to `eos_token_id`:128001 for open-end generation.\n",
      " 50%|█████     | 10/20 [5:12:58<5:12:52, 1877.26s/it]Setting `pad_token_id` to `eos_token_id`:128001 for open-end generation.\n",
      " 55%|█████▌    | 11/20 [5:44:16<4:41:36, 1877.40s/it]Setting `pad_token_id` to `eos_token_id`:128001 for open-end generation.\n",
      " 60%|██████    | 12/20 [6:15:27<4:10:03, 1875.45s/it]Setting `pad_token_id` to `eos_token_id`:128001 for open-end generation.\n",
      " 65%|██████▌   | 13/20 [6:46:47<3:38:58, 1876.92s/it]Setting `pad_token_id` to `eos_token_id`:128001 for open-end generation.\n",
      " 70%|███████   | 14/20 [7:18:07<3:07:46, 1877.76s/it]Setting `pad_token_id` to `eos_token_id`:128001 for open-end generation.\n",
      " 75%|███████▌  | 15/20 [7:49:21<2:36:22, 1876.58s/it]Setting `pad_token_id` to `eos_token_id`:128001 for open-end generation.\n",
      " 80%|████████  | 16/20 [8:20:28<2:04:55, 1873.86s/it]Setting `pad_token_id` to `eos_token_id`:128001 for open-end generation.\n",
      " 85%|████████▌ | 17/20 [8:51:42<1:33:41, 1873.94s/it]Setting `pad_token_id` to `eos_token_id`:128001 for open-end generation.\n",
      " 90%|█████████ | 18/20 [9:22:50<1:02:24, 1872.09s/it]Setting `pad_token_id` to `eos_token_id`:128001 for open-end generation.\n",
      " 95%|█████████▌| 19/20 [9:54:09<31:14, 1874.25s/it]  Setting `pad_token_id` to `eos_token_id`:128001 for open-end generation.\n",
      "100%|██████████| 20/20 [10:25:24<00:00, 1876.22s/it]\n",
      "  0%|          | 0/20 [00:00<?, ?it/s]Setting `pad_token_id` to `eos_token_id`:128001 for open-end generation.\n",
      "  5%|▌         | 1/20 [29:08<9:13:43, 1748.62s/it]Setting `pad_token_id` to `eos_token_id`:128001 for open-end generation.\n",
      " 10%|█         | 2/20 [59:02<8:52:35, 1775.31s/it]Setting `pad_token_id` to `eos_token_id`:128001 for open-end generation.\n",
      " 15%|█▌        | 3/20 [1:30:07<8:34:38, 1816.38s/it]Setting `pad_token_id` to `eos_token_id`:128001 for open-end generation.\n",
      " 20%|██        | 4/20 [2:01:40<8:12:22, 1846.39s/it]Setting `pad_token_id` to `eos_token_id`:128001 for open-end generation.\n",
      " 25%|██▌       | 5/20 [2:31:11<7:34:48, 1819.24s/it]Setting `pad_token_id` to `eos_token_id`:128001 for open-end generation.\n",
      " 30%|███       | 6/20 [3:02:27<7:09:01, 1838.66s/it]Setting `pad_token_id` to `eos_token_id`:128001 for open-end generation.\n",
      " 35%|███▌      | 7/20 [3:31:43<6:32:29, 1811.53s/it]Setting `pad_token_id` to `eos_token_id`:128001 for open-end generation.\n",
      " 40%|████      | 8/20 [4:01:16<5:59:50, 1799.18s/it]Setting `pad_token_id` to `eos_token_id`:128001 for open-end generation.\n",
      " 45%|████▌     | 9/20 [4:31:22<5:30:14, 1801.35s/it]Setting `pad_token_id` to `eos_token_id`:128001 for open-end generation.\n",
      " 50%|█████     | 10/20 [5:02:33<5:03:49, 1822.92s/it]Setting `pad_token_id` to `eos_token_id`:128001 for open-end generation.\n",
      " 55%|█████▌    | 11/20 [5:34:05<4:36:35, 1843.93s/it]Setting `pad_token_id` to `eos_token_id`:128001 for open-end generation.\n",
      " 60%|██████    | 12/20 [6:05:08<4:06:38, 1849.85s/it]Setting `pad_token_id` to `eos_token_id`:128001 for open-end generation.\n",
      " 65%|██████▌   | 13/20 [6:26:00<3:14:40, 1668.69s/it]Setting `pad_token_id` to `eos_token_id`:128001 for open-end generation.\n",
      " 70%|███████   | 14/20 [6:54:57<2:48:55, 1689.27s/it]Setting `pad_token_id` to `eos_token_id`:128001 for open-end generation.\n",
      " 75%|███████▌  | 15/20 [7:25:55<2:25:01, 1740.39s/it]Setting `pad_token_id` to `eos_token_id`:128001 for open-end generation.\n",
      " 80%|████████  | 16/20 [7:55:13<1:56:22, 1745.53s/it]Setting `pad_token_id` to `eos_token_id`:128001 for open-end generation.\n",
      " 85%|████████▌ | 17/20 [8:23:13<1:26:17, 1725.81s/it]Setting `pad_token_id` to `eos_token_id`:128001 for open-end generation.\n",
      " 90%|█████████ | 18/20 [8:54:38<59:07, 1773.80s/it]  Setting `pad_token_id` to `eos_token_id`:128001 for open-end generation.\n",
      " 95%|█████████▌| 19/20 [9:26:06<30:08, 1808.13s/it]Setting `pad_token_id` to `eos_token_id`:128001 for open-end generation.\n",
      "100%|██████████| 20/20 [9:55:44<00:00, 1787.22s/it]\n",
      "  0%|          | 0/20 [00:00<?, ?it/s]Setting `pad_token_id` to `eos_token_id`:128001 for open-end generation.\n",
      "  5%|▌         | 1/20 [29:05<9:12:48, 1745.70s/it]Setting `pad_token_id` to `eos_token_id`:128001 for open-end generation.\n",
      " 10%|█         | 2/20 [1:00:21<9:06:44, 1822.49s/it]Setting `pad_token_id` to `eos_token_id`:128001 for open-end generation.\n",
      " 15%|█▌        | 3/20 [1:29:29<8:26:37, 1788.10s/it]Setting `pad_token_id` to `eos_token_id`:128001 for open-end generation.\n",
      " 20%|██        | 4/20 [1:52:30<7:13:59, 1627.49s/it]Setting `pad_token_id` to `eos_token_id`:128001 for open-end generation.\n",
      " 25%|██▌       | 5/20 [2:06:00<5:33:08, 1332.60s/it]Setting `pad_token_id` to `eos_token_id`:128001 for open-end generation.\n",
      " 30%|███       | 6/20 [2:24:51<4:54:59, 1264.26s/it]Setting `pad_token_id` to `eos_token_id`:128001 for open-end generation.\n",
      " 35%|███▌      | 7/20 [2:52:18<5:01:01, 1389.35s/it]Setting `pad_token_id` to `eos_token_id`:128001 for open-end generation.\n",
      " 40%|████      | 8/20 [3:23:26<5:08:21, 1541.79s/it]Setting `pad_token_id` to `eos_token_id`:128001 for open-end generation.\n",
      " 45%|████▌     | 9/20 [3:53:12<4:56:37, 1617.96s/it]Setting `pad_token_id` to `eos_token_id`:128001 for open-end generation.\n",
      " 50%|█████     | 10/20 [4:06:29<3:47:27, 1364.72s/it]Setting `pad_token_id` to `eos_token_id`:128001 for open-end generation.\n",
      " 55%|█████▌    | 11/20 [4:37:02<3:46:10, 1507.84s/it]Setting `pad_token_id` to `eos_token_id`:128001 for open-end generation.\n",
      " 60%|██████    | 12/20 [4:43:48<2:36:20, 1172.62s/it]Setting `pad_token_id` to `eos_token_id`:128001 for open-end generation.\n",
      " 65%|██████▌   | 13/20 [5:15:00<2:41:31, 1384.48s/it]Setting `pad_token_id` to `eos_token_id`:128001 for open-end generation.\n",
      " 70%|███████   | 14/20 [5:45:59<2:32:47, 1527.84s/it]Setting `pad_token_id` to `eos_token_id`:128001 for open-end generation.\n",
      " 75%|███████▌  | 15/20 [6:16:54<2:15:33, 1626.67s/it]Setting `pad_token_id` to `eos_token_id`:128001 for open-end generation.\n",
      " 80%|████████  | 16/20 [6:47:47<1:52:59, 1694.75s/it]Setting `pad_token_id` to `eos_token_id`:128001 for open-end generation.\n",
      " 85%|████████▌ | 17/20 [7:18:28<1:26:56, 1738.76s/it]Setting `pad_token_id` to `eos_token_id`:128001 for open-end generation.\n",
      " 90%|█████████ | 18/20 [7:48:14<58:25, 1752.82s/it]  Setting `pad_token_id` to `eos_token_id`:128001 for open-end generation.\n",
      " 95%|█████████▌| 19/20 [8:10:33<27:08, 1628.58s/it]Setting `pad_token_id` to `eos_token_id`:128001 for open-end generation.\n",
      "100%|██████████| 20/20 [8:26:42<00:00, 1520.14s/it]\n",
      "  0%|          | 0/20 [00:00<?, ?it/s]Setting `pad_token_id` to `eos_token_id`:128001 for open-end generation.\n",
      "  5%|▌         | 1/20 [35:40<11:17:51, 2140.59s/it]Setting `pad_token_id` to `eos_token_id`:128001 for open-end generation.\n",
      " 10%|█         | 2/20 [1:11:26<10:43:12, 2144.00s/it]Setting `pad_token_id` to `eos_token_id`:128001 for open-end generation.\n",
      " 15%|█▌        | 3/20 [1:47:01<10:06:17, 2139.87s/it]Setting `pad_token_id` to `eos_token_id`:128001 for open-end generation.\n",
      " 20%|██        | 4/20 [2:22:09<9:27:10, 2126.92s/it] Setting `pad_token_id` to `eos_token_id`:128001 for open-end generation.\n",
      " 25%|██▌       | 5/20 [2:57:31<8:51:17, 2125.20s/it]Setting `pad_token_id` to `eos_token_id`:128001 for open-end generation.\n",
      " 30%|███       | 6/20 [3:33:05<8:16:34, 2128.21s/it]Setting `pad_token_id` to `eos_token_id`:128001 for open-end generation.\n",
      " 35%|███▌      | 7/20 [4:08:31<7:40:58, 2127.56s/it]Setting `pad_token_id` to `eos_token_id`:128001 for open-end generation.\n",
      " 40%|████      | 8/20 [4:43:52<7:05:07, 2125.59s/it]Setting `pad_token_id` to `eos_token_id`:128001 for open-end generation.\n",
      " 45%|████▌     | 9/20 [5:19:17<6:29:36, 2125.18s/it]Setting `pad_token_id` to `eos_token_id`:128001 for open-end generation.\n",
      " 50%|█████     | 10/20 [5:55:04<5:55:21, 2132.13s/it]Setting `pad_token_id` to `eos_token_id`:128001 for open-end generation.\n",
      " 55%|█████▌    | 11/20 [6:29:58<5:18:03, 2120.40s/it]Setting `pad_token_id` to `eos_token_id`:128001 for open-end generation.\n",
      " 60%|██████    | 12/20 [7:05:26<4:43:01, 2122.71s/it]Setting `pad_token_id` to `eos_token_id`:128001 for open-end generation.\n",
      " 65%|██████▌   | 13/20 [7:40:43<4:07:26, 2120.90s/it]Setting `pad_token_id` to `eos_token_id`:128001 for open-end generation.\n",
      " 70%|███████   | 14/20 [8:16:02<3:32:01, 2120.26s/it]Setting `pad_token_id` to `eos_token_id`:128001 for open-end generation.\n",
      " 75%|███████▌  | 15/20 [8:50:58<2:56:05, 2113.12s/it]Setting `pad_token_id` to `eos_token_id`:128001 for open-end generation.\n",
      " 80%|████████  | 16/20 [9:26:06<2:20:46, 2111.61s/it]Setting `pad_token_id` to `eos_token_id`:128001 for open-end generation.\n",
      " 85%|████████▌ | 17/20 [10:01:21<1:45:37, 2112.58s/it]Setting `pad_token_id` to `eos_token_id`:128001 for open-end generation.\n",
      " 90%|█████████ | 18/20 [10:36:23<1:10:18, 2109.35s/it]Setting `pad_token_id` to `eos_token_id`:128001 for open-end generation.\n",
      " 95%|█████████▌| 19/20 [11:11:16<35:04, 2104.46s/it]  Setting `pad_token_id` to `eos_token_id`:128001 for open-end generation.\n",
      "100%|██████████| 20/20 [11:46:38<00:00, 2119.92s/it]\n",
      "  0%|          | 0/20 [00:00<?, ?it/s]Setting `pad_token_id` to `eos_token_id`:128001 for open-end generation.\n",
      "  5%|▌         | 1/20 [35:30<11:14:38, 2130.42s/it]Setting `pad_token_id` to `eos_token_id`:128001 for open-end generation.\n",
      " 10%|█         | 2/20 [1:10:43<10:36:05, 2120.29s/it]Setting `pad_token_id` to `eos_token_id`:128001 for open-end generation.\n",
      " 15%|█▌        | 3/20 [1:46:20<10:02:56, 2128.03s/it]Setting `pad_token_id` to `eos_token_id`:128001 for open-end generation.\n",
      " 20%|██        | 4/20 [2:21:54<9:28:05, 2130.33s/it] Setting `pad_token_id` to `eos_token_id`:128001 for open-end generation.\n",
      " 25%|██▌       | 5/20 [2:57:00<8:50:22, 2121.49s/it]Setting `pad_token_id` to `eos_token_id`:128001 for open-end generation.\n",
      " 30%|███       | 6/20 [3:10:20<6:30:10, 1672.19s/it]Setting `pad_token_id` to `eos_token_id`:128001 for open-end generation.\n",
      " 35%|███▌      | 7/20 [3:46:04<6:35:42, 1826.35s/it]Setting `pad_token_id` to `eos_token_id`:128001 for open-end generation.\n",
      " 40%|████      | 8/20 [4:21:15<6:23:24, 1917.06s/it]Setting `pad_token_id` to `eos_token_id`:128001 for open-end generation.\n",
      " 45%|████▌     | 9/20 [4:56:35<6:03:06, 1980.57s/it]Setting `pad_token_id` to `eos_token_id`:128001 for open-end generation.\n",
      " 50%|█████     | 10/20 [5:31:42<5:36:33, 2019.37s/it]Setting `pad_token_id` to `eos_token_id`:128001 for open-end generation.\n",
      " 55%|█████▌    | 11/20 [6:07:03<5:07:35, 2050.59s/it]Setting `pad_token_id` to `eos_token_id`:128001 for open-end generation.\n",
      " 60%|██████    | 12/20 [6:42:38<4:36:50, 2076.33s/it]Setting `pad_token_id` to `eos_token_id`:128001 for open-end generation.\n",
      " 65%|██████▌   | 13/20 [7:18:04<4:03:59, 2091.42s/it]Setting `pad_token_id` to `eos_token_id`:128001 for open-end generation.\n",
      " 70%|███████   | 14/20 [7:53:12<3:29:37, 2096.26s/it]Setting `pad_token_id` to `eos_token_id`:128001 for open-end generation.\n",
      " 75%|███████▌  | 15/20 [8:28:51<2:55:46, 2109.34s/it]Setting `pad_token_id` to `eos_token_id`:128001 for open-end generation.\n",
      " 80%|████████  | 16/20 [9:04:15<2:20:55, 2113.80s/it]Setting `pad_token_id` to `eos_token_id`:128001 for open-end generation.\n",
      " 85%|████████▌ | 17/20 [9:39:58<1:46:07, 2122.49s/it]Setting `pad_token_id` to `eos_token_id`:128001 for open-end generation.\n",
      " 90%|█████████ | 18/20 [10:09:17<1:07:06, 2013.11s/it]Setting `pad_token_id` to `eos_token_id`:128001 for open-end generation.\n",
      " 95%|█████████▌| 19/20 [10:44:41<34:06, 2046.50s/it]  Setting `pad_token_id` to `eos_token_id`:128001 for open-end generation.\n",
      "100%|██████████| 20/20 [11:19:33<00:00, 2038.67s/it]\n",
      "  0%|          | 0/20 [00:00<?, ?it/s]Setting `pad_token_id` to `eos_token_id`:128001 for open-end generation.\n",
      "  5%|▌         | 1/20 [11:47<3:44:11, 707.98s/it]Setting `pad_token_id` to `eos_token_id`:128001 for open-end generation.\n",
      " 10%|█         | 2/20 [42:16<6:50:03, 1366.87s/it]Setting `pad_token_id` to `eos_token_id`:128001 for open-end generation.\n",
      " 15%|█▌        | 3/20 [1:18:00<8:07:49, 1721.71s/it]Setting `pad_token_id` to `eos_token_id`:128001 for open-end generation.\n",
      " 20%|██        | 4/20 [1:28:26<5:43:50, 1289.40s/it]Setting `pad_token_id` to `eos_token_id`:128001 for open-end generation.\n",
      " 25%|██▌       | 5/20 [2:04:04<6:38:51, 1595.41s/it]Setting `pad_token_id` to `eos_token_id`:128001 for open-end generation.\n",
      " 30%|███       | 6/20 [2:38:51<6:51:15, 1762.54s/it]Setting `pad_token_id` to `eos_token_id`:128001 for open-end generation.\n",
      " 35%|███▌      | 7/20 [3:07:07<6:17:10, 1740.84s/it]Setting `pad_token_id` to `eos_token_id`:128001 for open-end generation.\n",
      " 40%|████      | 8/20 [3:15:53<4:30:48, 1354.02s/it]Setting `pad_token_id` to `eos_token_id`:128001 for open-end generation.\n",
      " 45%|████▌     | 9/20 [3:55:31<5:06:56, 1674.18s/it]Setting `pad_token_id` to `eos_token_id`:128001 for open-end generation.\n",
      " 50%|█████     | 10/20 [4:08:29<3:52:52, 1397.28s/it]Setting `pad_token_id` to `eos_token_id`:128001 for open-end generation.\n",
      " 55%|█████▌    | 11/20 [4:42:22<3:58:48, 1592.07s/it]Setting `pad_token_id` to `eos_token_id`:128001 for open-end generation.\n",
      " 60%|██████    | 12/20 [4:48:36<2:42:52, 1221.55s/it]Setting `pad_token_id` to `eos_token_id`:128001 for open-end generation.\n",
      " 65%|██████▌   | 13/20 [5:02:12<2:08:09, 1098.55s/it]Setting `pad_token_id` to `eos_token_id`:128001 for open-end generation.\n",
      " 70%|███████   | 14/20 [5:15:42<1:41:09, 1011.51s/it]Setting `pad_token_id` to `eos_token_id`:128001 for open-end generation.\n",
      " 75%|███████▌  | 15/20 [5:57:57<2:02:32, 1470.56s/it]Setting `pad_token_id` to `eos_token_id`:128001 for open-end generation.\n",
      " 80%|████████  | 16/20 [6:17:57<1:32:36, 1389.23s/it]Setting `pad_token_id` to `eos_token_id`:128001 for open-end generation.\n",
      " 85%|████████▌ | 17/20 [6:55:30<1:22:26, 1648.98s/it]Setting `pad_token_id` to `eos_token_id`:128001 for open-end generation.\n",
      " 90%|█████████ | 18/20 [8:16:48<1:27:18, 2619.20s/it]Setting `pad_token_id` to `eos_token_id`:128001 for open-end generation.\n",
      " 95%|█████████▌| 19/20 [8:50:34<40:41, 2441.20s/it]  Setting `pad_token_id` to `eos_token_id`:128001 for open-end generation.\n",
      "100%|██████████| 20/20 [10:05:25<00:00, 1816.29s/it]\n"
     ]
    }
   ],
   "source": [
    "run_seg_00 = llm_segmentation('stories/01Run.txt', 20, 0.1)\n",
    "run_seg_05 = llm_segmentation('stories/01Run.txt', 20, 0.5)\n",
    "run_seg_10 = llm_segmentation('stories/01Run.txt', 20, 1.0)\n",
    "goh_seg_00 = llm_segmentation('stories/02GoHitler.txt', 20, 0.1)\n",
    "goh_seg_05 = llm_segmentation('stories/02GoHitler.txt', 20, 0.5)\n",
    "goh_seg_10 = llm_segmentation('stories/02GoHitler.txt', 20, 1.0)\n",
    "mml_seg_00 = llm_segmentation('stories/03MyMothersLife.txt', 20, 0.1)\n",
    "mml_seg_05 = llm_segmentation('stories/03MyMothersLife.txt', 20, 0.5)\n",
    "mml_seg_10 = llm_segmentation('stories/03MyMothersLife.txt', 20, 1.0)"
   ]
  },
  {
   "cell_type": "code",
   "execution_count": 13,
   "metadata": {},
   "outputs": [],
   "source": [
    "for i in range(20):\n",
    "    np.save(f'results/{(i+1):02}llm_run_00.npy', run_seg_00[i])\n",
    "    np.save(f'results/{(i+1):02}llm_run_05.npy', run_seg_05[i])\n",
    "    np.save(f'results/{(i+1):02}llm_run_10.npy', run_seg_10[i])\n",
    "    np.save(f'results/{(i+1):02}llm_goh_00.npy', goh_seg_00[i])\n",
    "    np.save(f'results/{(i+1):02}llm_goh_05.npy', goh_seg_05[i])\n",
    "    np.save(f'results/{(i+1):02}llm_goh_10.npy', goh_seg_10[i])\n",
    "    np.save(f'results/{(i+1):02}llm_mml_00.npy', mml_seg_00[i])\n",
    "    np.save(f'results/{(i+1):02}llm_mml_05.npy', mml_seg_05[i])\n",
    "    np.save(f'results/{(i+1):02}llm_mml_10.npy', mml_seg_10[i])"
   ]
  },
  {
   "cell_type": "code",
   "execution_count": 11,
   "metadata": {},
   "outputs": [
    {
     "data": {
      "text/plain": [
       "20"
      ]
     },
     "execution_count": 11,
     "metadata": {},
     "output_type": "execute_result"
    }
   ],
   "source": [
    "len(run_seg_00)\n"
   ]
  }
 ],
 "metadata": {
  "kernelspec": {
   "display_name": "Python 3",
   "language": "python",
   "name": "python3"
  },
  "language_info": {
   "codemirror_mode": {
    "name": "ipython",
    "version": 3
   },
   "file_extension": ".py",
   "mimetype": "text/x-python",
   "name": "python",
   "nbconvert_exporter": "python",
   "pygments_lexer": "ipython3",
   "version": "3.12.3"
  }
 },
 "nbformat": 4,
 "nbformat_minor": 2
}
